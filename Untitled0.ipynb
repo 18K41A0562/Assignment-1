{
  "nbformat": 4,
  "nbformat_minor": 0,
  "metadata": {
    "colab": {
      "name": "Untitled0.ipynb",
      "provenance": [],
      "authorship_tag": "ABX9TyOaScEqPoMAw8IctitNvzAI",
      "include_colab_link": true
    },
    "kernelspec": {
      "name": "python3",
      "display_name": "Python 3"
    }
  },
  "cells": [
    {
      "cell_type": "markdown",
      "metadata": {
        "id": "view-in-github",
        "colab_type": "text"
      },
      "source": [
        "<a href=\"https://colab.research.google.com/github/18K41A0562/Assignment-1/blob/master/Untitled0.ipynb\" target=\"_parent\"><img src=\"https://colab.research.google.com/assets/colab-badge.svg\" alt=\"Open In Colab\"/></a>"
      ]
    },
    {
      "cell_type": "code",
      "metadata": {
        "id": "x5FaUoI7wP8j",
        "colab_type": "code",
        "colab": {
          "base_uri": "https://localhost:8080/",
          "height": 51
        },
        "outputId": "53402494-5ece-4a61-c4ad-1144164c362a"
      },
      "source": [
        "y=int(input(\"Enter a year:\"))\n",
        "year=y%12\n",
        "dic1={0:\"monkey\",1:\"rooster\",2:\"dog\",3:\"pig\",4:\"rat\",5:\"ox\",6:\"tiger\",7:\"rabbit\",8:\"dragon\",9:\"snake\",10:\"horse\",11:\"sheep\"}\n",
        "print(dic1[year])"
      ],
      "execution_count": 36,
      "outputs": [
        {
          "output_type": "stream",
          "text": [
            "Enter a year:2001\n",
            "snake\n"
          ],
          "name": "stdout"
        }
      ]
    },
    {
      "cell_type": "code",
      "metadata": {
        "id": "Ln-dz-Xzlv34",
        "colab_type": "code",
        "colab": {
          "base_uri": "https://localhost:8080/",
          "height": 68
        },
        "outputId": "c526ffe8-c969-46c9-8416-89071ab7f8bf"
      },
      "source": [
        "dis=int(input(\"Distance to be travel: \"))\n",
        "we=int(input(\"Weight of the goods: \"))\n",
        "if dis>=500:\n",
        "  if we>=100:\n",
        "    cost=5*dis\n",
        "  elif we>=10 and we<100:\n",
        "    cost=6*dis\n",
        "  else:\n",
        "    cost=7*dis \n",
        "else:\n",
        "  if we>=100:\n",
        "    cost=8*dis\n",
        "  else:\n",
        "    cost=5*dis  \n",
        "print(\"Amount to be charged:\",cost)"
      ],
      "execution_count": 2,
      "outputs": [
        {
          "output_type": "stream",
          "text": [
            "Distance to be travel:356\n",
            "Weight of the goods:12\n",
            "Amount to be charged: 1780\n"
          ],
          "name": "stdout"
        }
      ]
    },
    {
      "cell_type": "code",
      "metadata": {
        "id": "-pne8daQmdJd",
        "colab_type": "code",
        "colab": {
          "base_uri": "https://localhost:8080/",
          "height": 68
        },
        "outputId": "e66f1eae-e0b4-4ecf-f66d-5e0a0e781867"
      },
      "source": [
        "l1=[\"Stalls\",\"Circle\",\"UpperClass\",\"Box\"]\n",
        "s=input(\"Type of seat: \")\n",
        "pay=input(\"Payment mode: \")\n",
        "p=\"cash\"\n",
        "if pay==p:\n",
        "  if s in l1[0]:\n",
        "    d=625*(0.1)\n",
        "    c=625-d\n",
        "  elif s in l1[1]:\n",
        "    d=750*(0.1)\n",
        "    c=750-d\n",
        "  elif s in l1[2]:\n",
        "    d=850*(0.1)\n",
        "    c=850-d\n",
        "  else:\n",
        "    d=1000*(0.1)\n",
        "    c=1000-d\n",
        "else:\n",
        "  if s in l1[0]:\n",
        "    d=625*(0.05)\n",
        "    c=625-d\n",
        "  elif s in l1[1]:\n",
        "    d=750*(0.05)\n",
        "    c=750-d\n",
        "  elif s in l1[2]:\n",
        "    d=850*(0.05)\n",
        "    c=850-d\n",
        "  else:\n",
        "    d=1000*(0.05)\n",
        "    c=1000-d\n",
        "print(c)"
      ],
      "execution_count": 3,
      "outputs": [
        {
          "output_type": "stream",
          "text": [
            "Type of seat: Box\n",
            "Payment mode: cash\n",
            "900.0\n"
          ],
          "name": "stdout"
        }
      ]
    },
    {
      "cell_type": "code",
      "metadata": {
        "id": "nGZfwEy3n-mA",
        "colab_type": "code",
        "colab": {
          "base_uri": "https://localhost:8080/",
          "height": 85
        },
        "outputId": "49bc51b7-5236-4a47-ab0e-5d3c143cc09d"
      },
      "source": [
        "mass=int(input(\"Enter Amount of water in kgs:\"))\n",
        "ini=int(input(\"Enter initial temperature of the water: \"))\n",
        "fin=int(input(\"Enter final temperature of the water: \"))\n",
        "q=mass*(fin-ini)*4184\n",
        "print(\"Energy:\",q)"
      ],
      "execution_count": 9,
      "outputs": [
        {
          "output_type": "stream",
          "text": [
            "Enter Amount of water in kgs:6\n",
            "Enter initial temperature of the water: 24\n",
            "Enter final temperature of the water: 101\n",
            "Energy: 1933008\n"
          ],
          "name": "stdout"
        }
      ]
    },
    {
      "cell_type": "code",
      "metadata": {
        "id": "_FfEFrOBpIgC",
        "colab_type": "code",
        "colab": {
          "base_uri": "https://localhost:8080/",
          "height": 51
        },
        "outputId": "70b5909a-9d85-452b-dba9-fb9831ade87c"
      },
      "source": [
        "month=input(\"Enter a month: \")\n",
        "l1=[\"January\",\"February\",\"December\"]\n",
        "l2=[\"March\",\"April\",\"May\"]\n",
        "l3=[\"June\",\"July\",\"August\"]\n",
        "l4=[\"September\",\"October\",\"november\"]\n",
        "if month in l1:\n",
        "  print(\"Winter\")\n",
        "if month in l2:\n",
        "  print(\"Spring\")\n",
        "elif month in l3:\n",
        "  print(\"Summer\")\n",
        "elif month in l4:\n",
        "  print(\"Autumn\")"
      ],
      "execution_count": 11,
      "outputs": [
        {
          "output_type": "stream",
          "text": [
            "Enter a month: April\n",
            "Spring\n"
          ],
          "name": "stdout"
        }
      ]
    },
    {
      "cell_type": "code",
      "metadata": {
        "id": "1nfcez3_p-KD",
        "colab_type": "code",
        "colab": {
          "base_uri": "https://localhost:8080/",
          "height": 85
        },
        "outputId": "b0c19fdd-a02e-4217-cc6d-9f782088d13d"
      },
      "source": [
        "wei=float(input(\"Enter weight: \"))\n",
        "hei=float(input(\"Enter height: \"))\n",
        "wei=wei*0.45359237\n",
        "hei=hei*0.0254\n",
        "bmi=wei/(hei**2)\n",
        "if bmi<18.5:\n",
        "  print(\"Under Weight\")\n",
        "elif bmi>=18.5 and bmi<25.0:\n",
        "  print(\"Normal Weight\")\n",
        "elif bmi>=25.0 and bmi<30.0:\n",
        "  print(\"Over Weight\")\n",
        "else:\n",
        "  print(\"Obese\") \n",
        "print(\"BMI is:\",bmi)"
      ],
      "execution_count": 17,
      "outputs": [
        {
          "output_type": "stream",
          "text": [
            "Enter weight: 75\n",
            "Enter height: 59\n",
            "Under Weight\n",
            "BMI is: 15.148008754075539\n"
          ],
          "name": "stdout"
        }
      ]
    },
    {
      "cell_type": "code",
      "metadata": {
        "id": "wGxyDZKnqydP",
        "colab_type": "code",
        "colab": {
          "base_uri": "https://localhost:8080/",
          "height": 51
        },
        "outputId": "2435d3bc-98f9-4abb-e8b5-5c42b70d6d74"
      },
      "source": [
        "n=int(input(\"Enter a number b/w 100 and 1000:\"))\n",
        "ld=0\n",
        "sum=0\n",
        "if(n>=100 and n<=1000):\n",
        "    while n > 0:\n",
        "      ld=n%10\n",
        "      sum+=ld\n",
        "      n=n//10\n",
        "print(\"Sum of all digits in the integer:\",sum)"
      ],
      "execution_count": 22,
      "outputs": [
        {
          "output_type": "stream",
          "text": [
            "Enter a number b/w 100 and 1000:402\n",
            "Sum of all digits in the integer: 6\n"
          ],
          "name": "stdout"
        }
      ]
    },
    {
      "cell_type": "code",
      "metadata": {
        "id": "B4XNVPGBrlDq",
        "colab_type": "code",
        "colab": {
          "base_uri": "https://localhost:8080/",
          "height": 54
        },
        "outputId": "096bfc47-8dba-4da8-cd4d-6e7a71defc4a"
      },
      "source": [
        "for n in range(2,1000):\n",
        "  t=n\n",
        "  rev=0\n",
        "  if(n>=1 and n<=1000):\n",
        "    while t > 0:\n",
        "      ld=t%10\n",
        "      rev=(rev*10)+ld\n",
        "      t//=10\n",
        "    if n==rev:  \n",
        "      print(n,end=' ')"
      ],
      "execution_count": 28,
      "outputs": [
        {
          "output_type": "stream",
          "text": [
            "2 3 4 5 6 7 8 9 11 22 33 44 55 66 77 88 99 101 111 121 131 141 151 161 171 181 191 202 212 222 232 242 252 262 272 282 292 303 313 323 333 343 353 363 373 383 393 404 414 424 434 444 454 464 474 484 494 505 515 525 535 545 555 565 575 585 595 606 616 626 636 646 656 666 676 686 696 707 717 727 737 747 757 767 777 787 797 808 818 828 838 848 858 868 878 888 898 909 919 929 939 949 959 969 979 989 999 "
          ],
          "name": "stdout"
        }
      ]
    },
    {
      "cell_type": "code",
      "metadata": {
        "id": "9ZwCaHUJsF99",
        "colab_type": "code",
        "colab": {
          "base_uri": "https://localhost:8080/",
          "height": 34
        },
        "outputId": "b828c6de-fe49-4eea-e1f1-6bc50a049997"
      },
      "source": [
        "for n in range(2,1000):\n",
        "  sum=0\n",
        "  t=n\n",
        "  while t>0:\n",
        "    ld=t%10\n",
        "    sum+=ld**3\n",
        "    t//=10\n",
        "  if n==sum:\n",
        "    print(n,end=' ')"
      ],
      "execution_count": 31,
      "outputs": [
        {
          "output_type": "stream",
          "text": [
            "153 370 371 407 "
          ],
          "name": "stdout"
        }
      ]
    },
    {
      "cell_type": "code",
      "metadata": {
        "id": "aCemst-xs_iL",
        "colab_type": "code",
        "colab": {
          "base_uri": "https://localhost:8080/",
          "height": 1000
        },
        "outputId": "5b8cd7fe-57bf-4769-80c3-e428cd9277c5"
      },
      "source": [
        "for n in range(1,101):\n",
        "  if n%3==0 and n%5==0:\n",
        "    print(\"Fizz Buzz\")\n",
        "  elif n%3==0:\n",
        "    print(\"Fizz\")\n",
        "  elif n%5==0:\n",
        "    print(\"Buzz\")\n",
        "  else:\n",
        "    print(n)"
      ],
      "execution_count": 32,
      "outputs": [
        {
          "output_type": "stream",
          "text": [
            "1\n",
            "2\n",
            "Fizz\n",
            "4\n",
            "Buzz\n",
            "Fizz\n",
            "7\n",
            "8\n",
            "Fizz\n",
            "Buzz\n",
            "11\n",
            "Fizz\n",
            "13\n",
            "14\n",
            "Fizz Buzz\n",
            "16\n",
            "17\n",
            "Fizz\n",
            "19\n",
            "Buzz\n",
            "Fizz\n",
            "22\n",
            "23\n",
            "Fizz\n",
            "Buzz\n",
            "26\n",
            "Fizz\n",
            "28\n",
            "29\n",
            "Fizz Buzz\n",
            "31\n",
            "32\n",
            "Fizz\n",
            "34\n",
            "Buzz\n",
            "Fizz\n",
            "37\n",
            "38\n",
            "Fizz\n",
            "Buzz\n",
            "41\n",
            "Fizz\n",
            "43\n",
            "44\n",
            "Fizz Buzz\n",
            "46\n",
            "47\n",
            "Fizz\n",
            "49\n",
            "Buzz\n",
            "Fizz\n",
            "52\n",
            "53\n",
            "Fizz\n",
            "Buzz\n",
            "56\n",
            "Fizz\n",
            "58\n",
            "59\n",
            "Fizz Buzz\n",
            "61\n",
            "62\n",
            "Fizz\n",
            "64\n",
            "Buzz\n",
            "Fizz\n",
            "67\n",
            "68\n",
            "Fizz\n",
            "Buzz\n",
            "71\n",
            "Fizz\n",
            "73\n",
            "74\n",
            "Fizz Buzz\n",
            "76\n",
            "77\n",
            "Fizz\n",
            "79\n",
            "Buzz\n",
            "Fizz\n",
            "82\n",
            "83\n",
            "Fizz\n",
            "Buzz\n",
            "86\n",
            "Fizz\n",
            "88\n",
            "89\n",
            "Fizz Buzz\n",
            "91\n",
            "92\n",
            "Fizz\n",
            "94\n",
            "Buzz\n",
            "Fizz\n",
            "97\n",
            "98\n",
            "Fizz\n",
            "Buzz\n"
          ],
          "name": "stdout"
        }
      ]
    },
    {
      "cell_type": "code",
      "metadata": {
        "id": "hKvKpHUjuO3g",
        "colab_type": "code",
        "colab": {
          "base_uri": "https://localhost:8080/",
          "height": 85
        },
        "outputId": "ab4d86cf-9e7b-424c-85ca-a1a13193b4a3"
      },
      "source": [
        "hei=int(input(\"Enter Height: \"))\n",
        "up=int(input(\"up meters:\"))\n",
        "down=int(input(\"down meters:\"))\n",
        "ans=0\n",
        "while (up-down)*ans <=(hei-up):\n",
        "    ans=ans+1\n",
        "print(ans+1)"
      ],
      "execution_count": 35,
      "outputs": [
        {
          "output_type": "stream",
          "text": [
            "Enter Height: 650\n",
            "up meters:21\n",
            "down meters:13\n",
            "80\n"
          ],
          "name": "stdout"
        }
      ]
    }
  ]
}